{
 "cells": [
  {
   "cell_type": "markdown",
   "metadata": {},
   "source": [
    "Before you turn this problem in, make sure everything runs as expected. First, **restart the kernel** (in the menubar, select Kernel$\\rightarrow$Restart) and then **run all cells** (in the menubar, select Cell$\\rightarrow$Run All).\n",
    "\n",
    "Make sure you fill in any place that says `YOUR CODE HERE` or \"YOUR ANSWER HERE\", as well as your name and collaborators below:"
   ]
  },
  {
   "cell_type": "code",
   "execution_count": null,
   "metadata": {},
   "outputs": [],
   "source": [
    "NAME = \"\"\n",
    "COLLABORATORS = \"\""
   ]
  },
  {
   "cell_type": "markdown",
   "metadata": {},
   "source": [
    "---"
   ]
  },
  {
   "cell_type": "markdown",
   "metadata": {
    "toc": true
   },
   "source": [
    "<h1>Table of Contents<span class=\"tocSkip\"></span></h1>\n",
    "<div class=\"toc\"><ul class=\"toc-item\"><li><span><a href=\"#Datascience-for-Economics-Final-Assignment\" data-toc-modified-id=\"Datascience-for-Economics-Final-Assignment-1\"><span class=\"toc-item-num\">1&nbsp;&nbsp;</span>Datascience for Economics Final Assignment</a></span></li><li><span><a href=\"#Research-question-(0.5-points)\" data-toc-modified-id=\"Research-question-(0.5-points)-2\"><span class=\"toc-item-num\">2&nbsp;&nbsp;</span>Research question (0.5 points)</a></span></li><li><span><a href=\"#Motivation-(0.5-points)\" data-toc-modified-id=\"Motivation-(0.5-points)-3\"><span class=\"toc-item-num\">3&nbsp;&nbsp;</span>Motivation (0.5 points)</a></span></li><li><span><a href=\"#Method-and-data-(1.0-point)\" data-toc-modified-id=\"Method-and-data-(1.0-point)-4\"><span class=\"toc-item-num\">4&nbsp;&nbsp;</span>Method and data (1.0 point)</a></span></li><li><span><a href=\"#Preview-of-the-answers-(0.5-points)\" data-toc-modified-id=\"Preview-of-the-answers-(0.5-points)-5\"><span class=\"toc-item-num\">5&nbsp;&nbsp;</span>Preview of the answers (0.5 points)</a></span></li><li><span><a href=\"#Main-assumptions-(0.5-points)\" data-toc-modified-id=\"Main-assumptions-(0.5-points)-6\"><span class=\"toc-item-num\">6&nbsp;&nbsp;</span>Main assumptions (0.5 points)</a></span></li><li><span><a href=\"#Python/R-code-(6-points)\" data-toc-modified-id=\"Python/R-code-(6-points)-7\"><span class=\"toc-item-num\">7&nbsp;&nbsp;</span>Python code (6 points)</a></span></li><li><span><a href=\"#Robustness-analysis-(0.5-points)\" data-toc-modified-id=\"Robustness-analysis-(0.5-points)-8\"><span class=\"toc-item-num\">8&nbsp;&nbsp;</span>Robustness analysis (0.5 points)</a></span></li><li><span><a href=\"#Discussion-and-conclusion-(0.5-points)\" data-toc-modified-id=\"Discussion-and-conclusion-(0.5-points)-9\"><span class=\"toc-item-num\">9&nbsp;&nbsp;</span>Discussion and conclusion (0.5 points)</a></span></li></ul></div>"
   ]
  },
  {
   "cell_type": "markdown",
   "metadata": {
    "deletable": false,
    "editable": false,
    "nbgrader": {
     "cell_type": "markdown",
     "checksum": "535c21960d4663d5edac398cb445d087",
     "grade": false,
     "grade_id": "jupyter",
     "locked": true,
     "schema_version": 3,
     "solution": false
    }
   },
   "source": [
    "For this problem set, we'll be using the Jupyter notebook:\n",
    "\n",
    "![](jupyter.png)"
   ]
  },
  {
   "cell_type": "markdown",
   "metadata": {},
   "source": [
    "# Datascience for Economics Final Assignment\n",
    "\n",
    "The datascience final assignment you can do either on your own or with one other student (i.e. max group size is 2 students).\n",
    "\n",
    "The first cell of your notebook, should contain a table with the names and SNRs and ANRs of the group members, like so\n",
    "\n",
    "|Name|SNR|ANR|\n",
    "|----|---|----|\n",
    "|j.m. keynes|12345|u6786|\n",
    "|adam smith|56789|u1234|\n",
    "\n",
    "\n",
    "See [the webpage](https://janboone.github.io/msc_datascience/#org6548148) for details of what we expect to see in this assignment.\n",
    "\n",
    "Write readable python code and use markdown to explain to us what you are doing in the code and why.\n"
   ]
  },
  {
   "cell_type": "markdown",
   "metadata": {},
   "source": [
    "# Research question (0.5 points)\n",
    "\n",
    "Formulate the research question: what question do you want to answer in this assignment?"
   ]
  },
  {
   "cell_type": "markdown",
   "metadata": {
    "deletable": false,
    "nbgrader": {
     "cell_type": "markdown",
     "checksum": "d9a9d08ea38644e3ac0b85955731a7e3",
     "grade": true,
     "grade_id": "cell-44d71caea99ce92b",
     "locked": false,
     "points": 0.5,
     "schema_version": 3,
     "solution": true,
     "task": false
    }
   },
   "source": [
    "YOUR ANSWER HERE"
   ]
  },
  {
   "cell_type": "markdown",
   "metadata": {},
   "source": [
    "# Motivation (0.5 points)\n",
    "\n",
    "Motivate why this question is interesting."
   ]
  },
  {
   "cell_type": "markdown",
   "metadata": {
    "deletable": false,
    "nbgrader": {
     "cell_type": "markdown",
     "checksum": "a74e1c61d4c263e5dcedc9c4f7565432",
     "grade": true,
     "grade_id": "cell-a00025e68181b6f6",
     "locked": false,
     "points": 0.5,
     "schema_version": 3,
     "solution": true,
     "task": false
    }
   },
   "source": [
    "YOUR ANSWER HERE"
   ]
  },
  {
   "cell_type": "markdown",
   "metadata": {},
   "source": [
    "# Method and data (1.0 point)\n",
    "\n",
    "Which data do you have to analyze the question and what methods are you using to answer the question?\n",
    "\n",
    "* explain where your data come from (give a link or the code to download the data if you use an API like [wbdata](https://wbdata.readthedocs.io/en/stable/));\n",
    "* explain the data cleaning and data normalization steps that you use;\n",
    "* make sure that the data is in your github repository as well (or explain why this is not possible) so that we can replicate your analysis.\n",
    "* Motivate why you have decided to use these methods (e.g., neural network) over other methods (e.g., Lasso) in this specific context of your study.\n",
    "* How is the data representative to the population of interest?"
   ]
  },
  {
   "cell_type": "markdown",
   "metadata": {
    "deletable": false,
    "nbgrader": {
     "cell_type": "markdown",
     "checksum": "58b91e9ed0432af5f7bd6e33a6a51515",
     "grade": true,
     "grade_id": "cell-a2a13b6c938ec4c8",
     "locked": false,
     "points": 1,
     "schema_version": 3,
     "solution": true,
     "task": false
    }
   },
   "source": [
    "YOUR ANSWER HERE"
   ]
  },
  {
   "cell_type": "markdown",
   "metadata": {},
   "source": [
    "# Preview of the answers (0.5 points)\n",
    "\n",
    "Summarize the results that you find and the answer to your research question."
   ]
  },
  {
   "cell_type": "markdown",
   "metadata": {
    "deletable": false,
    "nbgrader": {
     "cell_type": "markdown",
     "checksum": "a675684538158f19ff2a70fa98e7fff2",
     "grade": true,
     "grade_id": "cell-c2854f0b8b034fae",
     "locked": false,
     "points": 0.5,
     "schema_version": 3,
     "solution": true,
     "task": false
    }
   },
   "source": [
    "YOUR ANSWER HERE"
   ]
  },
  {
   "cell_type": "markdown",
   "metadata": {},
   "source": [
    "# Main assumptions (0.5 points)\n",
    "\n",
    "What are the main assumptions that you need to answer the question with your data? For example, assumptions about missing data, random sampling, stability of the data generating process. If the aim is causal inference, then also make clear your assumptions about the random assignment of treatment (e.g. plot a DAG to illustrate your view on the causal relations between the variables)."
   ]
  },
  {
   "cell_type": "markdown",
   "metadata": {
    "deletable": false,
    "nbgrader": {
     "cell_type": "markdown",
     "checksum": "d43d4f76461858e4d6140ccbf5347ab6",
     "grade": true,
     "grade_id": "cell-03cb6a4826b945c9",
     "locked": false,
     "points": 0.5,
     "schema_version": 3,
     "solution": true,
     "task": false
    }
   },
   "source": [
    "YOUR ANSWER HERE"
   ]
  },
  {
   "cell_type": "markdown",
   "metadata": {},
   "source": [
    "# Python code (6 points)\n",
    "\n",
    "Give the python code in code cells and use markdown cells to explain why you code things in this way and what the outcomes are of the code cells.\n",
    "\n",
    "Create as many python and markdown cells as you need to explain things well."
   ]
  },
  {
   "cell_type": "code",
   "execution_count": null,
   "metadata": {
    "deletable": false,
    "nbgrader": {
     "cell_type": "code",
     "checksum": "ad0736d3fd2fd323ad705ff2d7f5f0b8",
     "grade": true,
     "grade_id": "cell-c8076f3091bfd885",
     "locked": false,
     "points": 6,
     "schema_version": 3,
     "solution": true,
     "task": false
    }
   },
   "outputs": [],
   "source": [
    "# YOUR CODE HERE\n",
    "raise NotImplementedError()"
   ]
  },
  {
   "cell_type": "markdown",
   "metadata": {},
   "source": [
    "# Robustness analysis (0.5 points)\n",
    "\n",
    "How robust are your results? Think of things like:\n",
    "\n",
    "* analyzing outliers in the data\n",
    "* running different specification of regression, neural network etc.\n",
    "* splitting data in train, validation and test data."
   ]
  },
  {
   "cell_type": "code",
   "execution_count": null,
   "metadata": {
    "deletable": false,
    "nbgrader": {
     "cell_type": "code",
     "checksum": "2c76eccb6035c07aa27eec1492ed7ed3",
     "grade": true,
     "grade_id": "cell-365f4bd48b20ea77",
     "locked": false,
     "points": 0.5,
     "schema_version": 3,
     "solution": true,
     "task": false
    }
   },
   "outputs": [],
   "source": [
    "# YOUR CODE HERE\n",
    "raise NotImplementedError()"
   ]
  },
  {
   "cell_type": "markdown",
   "metadata": {},
   "source": [
    "# Discussion and conclusion (0.5 points)\n",
    "\n",
    "What did you find in the analysis above; what is the answer to the question you started out with.\n",
    "\n",
    "What are weaknesses of your approach that can be improved upon in future research (e.g. in your thesis).\n",
    "\n"
   ]
  },
  {
   "cell_type": "markdown",
   "metadata": {
    "deletable": false,
    "nbgrader": {
     "cell_type": "markdown",
     "checksum": "7e908b508af5c2244449588615f83a4d",
     "grade": true,
     "grade_id": "cell-f8f3ab0fc4655b00",
     "locked": false,
     "points": 0.5,
     "schema_version": 3,
     "solution": true,
     "task": false
    }
   },
   "source": [
    "YOUR ANSWER HERE"
   ]
  },
  {
   "cell_type": "code",
   "execution_count": null,
   "metadata": {},
   "outputs": [],
   "source": []
  }
 ],
 "metadata": {
  "kernelspec": {
   "display_name": "Python 3",
   "language": "python",
   "name": "python3"
  },
  "language_info": {
   "codemirror_mode": {
    "name": "ipython",
    "version": 3
   },
   "file_extension": ".py",
   "mimetype": "text/x-python",
   "name": "python",
   "nbconvert_exporter": "python",
   "pygments_lexer": "ipython3",
   "version": "3.8.10"
  },
  "toc": {
   "base_numbering": 1,
   "nav_menu": {},
   "number_sections": true,
   "sideBar": true,
   "skip_h1_title": false,
   "title_cell": "Table of Contents",
   "title_sidebar": "Contents",
   "toc_cell": true,
   "toc_position": {},
   "toc_section_display": true,
   "toc_window_display": true
  }
 },
 "nbformat": 4,
 "nbformat_minor": 4
}
